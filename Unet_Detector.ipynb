{
  "nbformat": 4,
  "nbformat_minor": 0,
  "metadata": {
    "colab": {
      "name": "Unet-Detector.ipynb",
      "version": "0.3.2",
      "provenance": [],
      "collapsed_sections": [],
      "toc_visible": true
    },
    "kernelspec": {
      "name": "python3",
      "display_name": "Python 3"
    },
    "accelerator": "GPU"
  },
  "cells": [
    {
      "cell_type": "markdown",
      "metadata": {
        "id": "ob6tQqp9zBdz",
        "colab_type": "text"
      },
      "source": [
        "# ** U-net for image segmentation on images of microscopic cells**\n",
        "\n",
        "In this tutorial we train convolutional neural network U-net to detect contours of axons in microscopic images.\n",
        "\n",
        "**1. Data preparation and settings**\n",
        "\n",
        "Check if GPU is set. If not, go to Edit - Notebook Settings and choose GPU as Hardware Accelerator. GPU makes training much faster."
      ]
    },
    {
      "cell_type": "code",
      "metadata": {
        "id": "GlxYnMcCzfCT",
        "colab_type": "code",
        "colab": {}
      },
      "source": [
        "from tensorflow.python.client import device_lib\n",
        "device_lib.list_local_devices()"
      ],
      "execution_count": 0,
      "outputs": []
    },
    {
      "cell_type": "markdown",
      "metadata": {
        "id": "wl3G2w_gygc9",
        "colab_type": "text"
      },
      "source": [
        "Clone project from git repository https://github.com/LuckaHa/Unet-Detector.git. The project contains needed script files and image dataset."
      ]
    },
    {
      "cell_type": "code",
      "metadata": {
        "id": "bhFYoHBhX5Vc",
        "colab_type": "code",
        "colab": {}
      },
      "source": [
        "!git clone https://github.com/LuckaHa/Unet-Detector.git\n",
        "%cd ../\n",
        "%cd content\n",
        "\n",
        "!mv Unet-Detector/Unet-Detector/Unet_Detector.py Unet_Detector.py\n",
        "!mv Unet-Detector/Unet-Detector/data.py data.py\n",
        "!mv Unet-Detector/Unet-Detector/draw_contours.py draw_contours.py\n",
        "!mv Unet-Detector/Unet-Detector/model.py model.py\n",
        "!mv Unet-Detector/Unet-Detector/thresholding.py thresholding.py\n",
        "!mv Unet-Detector/Unet-Detector/use_model.py use_model.py\n",
        "!mv Unet-Detector/imgs.zip imgs.zip\n",
        "\n",
        "!rm -rf Unet-Detector"
      ],
      "execution_count": 0,
      "outputs": []
    },
    {
      "cell_type": "markdown",
      "metadata": {
        "id": "WphrZoAozs-5",
        "colab_type": "text"
      },
      "source": [
        "Unzip folder with images and delete zip file. You may need to refresh Files section to see the result."
      ]
    },
    {
      "cell_type": "code",
      "metadata": {
        "id": "7ycB_RwUsMR4",
        "colab_type": "code",
        "colab": {}
      },
      "source": [
        "from zipfile import ZipFile\n",
        "\n",
        "with ZipFile(\"imgs.zip\",'r') as zip:\n",
        "  zip.extractall()\n",
        "!rm -rf imgs.zip"
      ],
      "execution_count": 0,
      "outputs": []
    },
    {
      "cell_type": "markdown",
      "metadata": {
        "id": "C4kSwAu9ojkP",
        "colab_type": "text"
      },
      "source": [
        "**1.b Generate data using draw_contours.py**\n",
        "\n",
        "Unzip `imgs.zip` running previous code block and then run `draw_contours.py` with arguments:\n",
        "\n",
        "\n",
        "1.   Minimum cell area (positive integer)\n",
        "2.   Maximum cell area (positive integer)\n",
        "3.   Minimum circularity (float from 0 to 1 with 1 meaning perfect circle)\n",
        "4.   Thickness of contours (positive integer or -1 if you want the contours to be filled)\n",
        "\n"
      ]
    },
    {
      "cell_type": "code",
      "metadata": {
        "id": "F5dTYfEupl6B",
        "colab_type": "code",
        "colab": {}
      },
      "source": [
        "!python draw_contours.py 0 100 0.9 1"
      ],
      "execution_count": 0,
      "outputs": []
    },
    {
      "cell_type": "markdown",
      "metadata": {
        "id": "myQW7KAFb-V4",
        "colab_type": "text"
      },
      "source": [
        "When you want to create another dataset (with different arguments), first delete actual data folder and the new one will be created after running draw_contours.py again."
      ]
    },
    {
      "cell_type": "code",
      "metadata": {
        "id": "061vJUJVb_8u",
        "colab_type": "code",
        "colab": {}
      },
      "source": [
        "!rm -rf data"
      ],
      "execution_count": 0,
      "outputs": []
    },
    {
      "cell_type": "markdown",
      "metadata": {
        "id": "I42eWuzocSAb",
        "colab_type": "text"
      },
      "source": [
        "Create directory model, where the model structure and weights will be saved."
      ]
    },
    {
      "cell_type": "code",
      "metadata": {
        "id": "CrfvAw0adPKI",
        "colab_type": "code",
        "colab": {}
      },
      "source": [
        "!mkdir model"
      ],
      "execution_count": 0,
      "outputs": []
    },
    {
      "cell_type": "markdown",
      "metadata": {
        "id": "TyvCmsC5dUq0",
        "colab_type": "text"
      },
      "source": [
        "**2. Training phase**\n",
        "\n",
        "**2.a. Default execution** \n",
        "\n",
        "Run he script `Unet_Detector.py` which initializes training of model created in `model.py`. You can run it without any arguments and script will be executed with default values: `'label' 25 40 'create' 'yes' 9`\n"
      ]
    },
    {
      "cell_type": "code",
      "metadata": {
        "id": "SK5f9KWc9GhH",
        "colab_type": "code",
        "colab": {}
      },
      "source": [
        "!python Unet_Detector.py"
      ],
      "execution_count": 0,
      "outputs": []
    },
    {
      "cell_type": "markdown",
      "metadata": {
        "id": "nAE9goUP9qud",
        "colab_type": "text"
      },
      "source": [
        "**2.b. Execution with arguments** \n",
        "\n",
        "Or pass `Unet_Detector.py` all of the following arguments:\n",
        "\n",
        "\n",
        "1.   Folder with sample images of contours (`folder` or `folder_area`)\n",
        "2.   Positive integer number of batch size\n",
        "3.   Positive integer number of epochs\n",
        "4.   Mode - either `create` (means it will create new model) or `load` (means it will load model from file model/unet_membrane.hdf5)\n",
        "5.   `yes` if you want to run testing after model has been trained or `no` if you don't.\n",
        "6.   Positive integer number of test images."
      ]
    },
    {
      "cell_type": "code",
      "metadata": {
        "id": "Uqq36bdmu54J",
        "colab_type": "code",
        "colab": {}
      },
      "source": [
        "!python Unet_Detector.py 'label_area' 25 150 'create' 'yes' 9"
      ],
      "execution_count": 0,
      "outputs": []
    },
    {
      "cell_type": "markdown",
      "metadata": {
        "id": "6-zlopyKd5Am",
        "colab_type": "text"
      },
      "source": [
        "If there was an error or you just want to check the content of any file, visit GitHub repository or list its content using cat."
      ]
    },
    {
      "cell_type": "code",
      "metadata": {
        "id": "xhM21x59whNc",
        "colab_type": "code",
        "colab": {}
      },
      "source": [
        "!cat Unet_Detector.py"
      ],
      "execution_count": 0,
      "outputs": []
    },
    {
      "cell_type": "markdown",
      "metadata": {
        "id": "55wD1Bynk0Pc",
        "colab_type": "text"
      },
      "source": [
        "**3. Testing**\n",
        "\n",
        "If you want to run testing with previously trained net (saved to `model/unet_membrane.hdf5` using `Unet_Detector.py`), run script `use_unet.py`. If the number of test images is not equal to 9, pass `use_unet.py` argument defining number of test images (positive integer)."
      ]
    },
    {
      "cell_type": "code",
      "metadata": {
        "id": "J27sjSFqkcxx",
        "colab_type": "code",
        "colab": {}
      },
      "source": [
        "!python use_model.py 9"
      ],
      "execution_count": 0,
      "outputs": []
    },
    {
      "cell_type": "markdown",
      "metadata": {
        "id": "P95ZDBfczj_4",
        "colab_type": "text"
      },
      "source": [
        "Check results in directory `data/test/image` (predicted images are called `0_predict.png, 1_predict.png,` ...) and load model structure (`modelStructure.json`) and weights (`modelWeights.h5`) from model directory if you want to use this model later."
      ]
    },
    {
      "cell_type": "markdown",
      "metadata": {
        "id": "SXwN-FomIGhp",
        "colab_type": "text"
      },
      "source": [
        "**4. Post-processing**\n",
        "\n",
        "When we are atisfied with the test results, we can apply thresholding on predicted images to obtain even more precise solution. Run `thresholding.py` passing it an argument telling the location of predicted images and float value between 0 and 1 expressing how certain you want to be about pixel being white."
      ]
    },
    {
      "cell_type": "code",
      "metadata": {
        "id": "4xCWKrdFIrLJ",
        "colab_type": "code",
        "colab": {}
      },
      "source": [
        "!python thresholding.py 'data/test/image' 0.9"
      ],
      "execution_count": 0,
      "outputs": []
    },
    {
      "cell_type": "markdown",
      "metadata": {
        "id": "ODMN2O-RdOjm",
        "colab_type": "text"
      },
      "source": [
        "**Hope you enjoyed the tutorial!**\n",
        "\n",
        "Play with the arguments if you are interested or try it on your own dataset. You can upload files here, but after closing the tab, they will be lost as the aim of Colab is not to store the data, but provide a platform for running scripts."
      ]
    }
  ]
}